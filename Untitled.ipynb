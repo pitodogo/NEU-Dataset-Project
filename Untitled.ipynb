{
 "cells": [
  {
   "cell_type": "code",
   "execution_count": 109,
   "metadata": {
    "collapsed": false
   },
   "outputs": [],
   "source": [
    "from os import listdir\n",
    "import cv2\n",
    "import numpy as np\n",
    "from sklearn.svm import SVC\n",
    "from sklearn.neighbors import KNeighborsClassifier\n",
    "\n",
    "groups = [\"Cr\",\"In\",\"Pa\",\"PS\",\"RS\",\"Sc\"]\n",
    "data = [[] for i in range(len(groups))]\n",
    "\n",
    "for f in listdir(\"data\"):\n",
    "    image = np.reshape(cv2.imread(\"data/\"+f,0),[40000])#cv2.equalizeHist(cv2.imread(\"data/\"+f,0)),[40000])\n",
    "    data[groups.index(f[0:2])].append(image)"
   ]
  },
  {
   "cell_type": "code",
   "execution_count": 112,
   "metadata": {
    "collapsed": false
   },
   "outputs": [],
   "source": [
    "import cv2\n",
    "# To performing path manipulations \n",
    "import os\n",
    "# Local Binary Pattern function\n",
    "from skimage.feature import local_binary_pattern\n",
    "# To calculate a normalized histogram \n",
    "from scipy.stats import itemfreq\n",
    "from sklearn.preprocessing import normalize\n",
    "# Utility package -- use pip install cvutils to install\n",
    "#import cvutils\n",
    "# To read class from file\n",
    "import csv\n",
    "\n",
    "\n",
    "\n",
    "def lbp_hist(input_data):\n",
    "    radius = 2\n",
    "    no_points = 8 * radius  \n",
    "    lbp = local_binary_pattern(np.reshape(input_data,[200,200]), no_points, radius, method='uniform')\n",
    "    x = itemfreq(lbp.ravel())\n",
    "    hist = x[:, 1]/sum(x[:, 1])\n",
    "    return hist\n",
    "#X_name.append(train_image)\n",
    "#X_test.append(hist)\n",
    "#y_test.append(train_dic[os.path.split(train_image)[1]])\n",
    "    \n",
    "def random_split(data):\n",
    "    train = np.asarray([])\n",
    "    test = np.asarray([])\n",
    "    labels = []\n",
    "    for i in range(len(groups)):\n",
    "        labels = labels + [i]*150\n",
    "        current_set = data[i]\n",
    "        np.random.shuffle(current_set)\n",
    "        if(len(train)==0):\n",
    "            train = current_set[:150]\n",
    "            test = current_set[150:]\n",
    "        else:\n",
    "            train = np.vstack([train,current_set[:150]])\n",
    "            test = np.vstack([test,current_set[150:]])\n",
    "    train = [lbp_hist(t) for t in train]\n",
    "    test = [lbp_hist(t) for t in test]\n",
    "    return train,test,labels"
   ]
  },
  {
   "cell_type": "code",
   "execution_count": 113,
   "metadata": {
    "collapsed": false
   },
   "outputs": [
    {
     "name": "stdout",
     "output_type": "stream",
     "text": [
      "0.908888888889\n"
     ]
    }
   ],
   "source": [
    "for itr in range(1):\n",
    "    train,test,label = random_split(data)\n",
    "    #svc = SVC(C=0.1)\n",
    "    #svc.fit(train,label)\n",
    "    knn = KNeighborsClassifier(n_neighbors=1)\n",
    "    knn.fit(train,label)\n",
    "    a = knn.predict(test)\n",
    "    counter = 0\n",
    "    for k,l in enumerate(label):\n",
    "        if(l!=a[k]):\n",
    "            counter +=1\n",
    "    print 1-counter/900.0"
   ]
  },
  {
   "cell_type": "code",
   "execution_count": 62,
   "metadata": {
    "collapsed": false
   },
   "outputs": [],
   "source": [
    "train,test,label = random_split(data)"
   ]
  },
  {
   "cell_type": "code",
   "execution_count": 94,
   "metadata": {
    "collapsed": false
   },
   "outputs": [
    {
     "data": {
      "text/plain": [
       "array([ 0.079875,  0.00395 ,  0.001125, ...,  0.001325,  0.002525,\n",
       "        0.072375])"
      ]
     },
     "execution_count": 94,
     "metadata": {},
     "output_type": "execute_result"
    }
   ],
   "source": [
    "train[0]"
   ]
  },
  {
   "cell_type": "code",
   "execution_count": 74,
   "metadata": {
    "collapsed": false
   },
   "outputs": [
    {
     "name": "stdout",
     "output_type": "stream",
     "text": [
      "0.873333333333\n"
     ]
    }
   ],
   "source": []
  },
  {
   "cell_type": "code",
   "execution_count": 73,
   "metadata": {
    "collapsed": false
   },
   "outputs": [
    {
     "data": {
      "text/plain": [
       "array([0, 0, 0, 0, 0, 0, 0, 0, 0, 0, 0, 0, 0, 0, 0, 0, 0, 0, 0, 0, 0, 0, 0,\n",
       "       0, 0, 0, 0, 0, 0, 0, 0, 0, 0, 0, 0, 0, 0, 0, 0, 0, 0, 0, 0, 0, 0, 0,\n",
       "       0, 2, 0, 0, 0, 0, 0, 0, 0, 0, 0, 0, 0, 0, 0, 0, 0, 0, 0, 0, 0, 0, 0,\n",
       "       0, 0, 0, 0, 0, 0, 0, 0, 0, 0, 0, 0, 0, 0, 0, 0, 0, 0, 0, 0, 0, 0, 0,\n",
       "       0, 0, 0, 0, 0, 0, 0, 0, 0, 0, 0, 0, 0, 0, 0, 0, 0, 0, 0, 0, 0, 0, 0,\n",
       "       0, 0, 0, 0, 0, 0, 0, 0, 0, 0, 0, 0, 0, 0, 0, 0, 0, 0, 0, 0, 0, 0, 0,\n",
       "       0, 0, 0, 0, 0, 0, 0, 0, 0, 0, 0, 0, 0, 1, 1, 1, 1, 3, 5, 1, 1, 1, 1,\n",
       "       1, 1, 1, 1, 2, 1, 1, 2, 1, 2, 1, 1, 1, 1, 2, 5, 1, 1, 2, 1, 1, 1, 1,\n",
       "       1, 2, 1, 1, 1, 1, 2, 1, 1, 1, 1, 1, 1, 5, 1, 1, 1, 2, 1, 1, 1, 1, 1,\n",
       "       1, 1, 1, 5, 1, 1, 1, 1, 1, 1, 1, 1, 5, 1, 1, 1, 1, 1, 5, 5, 1, 1, 1,\n",
       "       1, 1, 1, 1, 1, 1, 1, 1, 1, 1, 1, 2, 2, 5, 1, 1, 2, 1, 5, 1, 1, 5, 1,\n",
       "       1, 1, 5, 1, 1, 2, 5, 1, 1, 1, 1, 5, 1, 5, 3, 5, 1, 1, 1, 1, 1, 5, 1,\n",
       "       1, 5, 1, 3, 3, 1, 5, 1, 5, 1, 1, 2, 1, 5, 5, 1, 1, 1, 1, 1, 1, 5, 1,\n",
       "       5, 2, 2, 2, 2, 2, 2, 5, 2, 2, 2, 2, 2, 1, 5, 2, 2, 2, 2, 2, 2, 2, 2,\n",
       "       2, 2, 5, 2, 2, 2, 2, 2, 2, 2, 1, 2, 4, 5, 2, 2, 2, 2, 2, 2, 4, 2, 1,\n",
       "       2, 2, 2, 2, 2, 2, 2, 2, 2, 2, 2, 2, 2, 2, 2, 2, 2, 2, 2, 2, 2, 2, 2,\n",
       "       2, 2, 2, 2, 2, 2, 2, 2, 2, 2, 2, 2, 2, 2, 2, 2, 2, 2, 2, 2, 2, 2, 2,\n",
       "       2, 2, 2, 2, 2, 3, 2, 2, 2, 2, 1, 2, 2, 2, 2, 2, 2, 2, 2, 2, 2, 1, 2,\n",
       "       2, 2, 2, 1, 2, 2, 2, 2, 2, 2, 2, 2, 2, 2, 2, 2, 2, 2, 1, 3, 2, 2, 2,\n",
       "       2, 2, 3, 2, 2, 2, 2, 2, 2, 2, 2, 2, 1, 3, 3, 3, 3, 3, 3, 3, 3, 3, 3,\n",
       "       3, 3, 2, 3, 3, 3, 3, 3, 3, 3, 3, 3, 3, 3, 3, 3, 3, 3, 3, 2, 3, 3, 3,\n",
       "       3, 3, 3, 3, 3, 3, 3, 3, 3, 3, 2, 3, 2, 3, 3, 3, 0, 3, 3, 3, 3, 3, 3,\n",
       "       3, 3, 3, 3, 3, 3, 3, 3, 3, 2, 3, 3, 3, 3, 3, 2, 3, 3, 3, 3, 3, 3, 3,\n",
       "       3, 3, 3, 3, 3, 3, 2, 3, 3, 3, 3, 3, 3, 3, 3, 3, 3, 2, 3, 2, 3, 3, 3,\n",
       "       3, 3, 3, 3, 3, 3, 3, 5, 3, 3, 3, 3, 3, 3, 3, 3, 3, 3, 3, 3, 3, 3, 3,\n",
       "       2, 3, 3, 3, 3, 3, 3, 3, 3, 3, 3, 3, 3, 3, 2, 3, 3, 3, 3, 3, 3, 1, 3,\n",
       "       3, 3, 4, 4, 4, 4, 4, 4, 4, 4, 4, 4, 4, 4, 4, 4, 4, 4, 4, 4, 4, 4, 4,\n",
       "       4, 4, 4, 4, 4, 4, 4, 4, 4, 4, 4, 4, 4, 4, 4, 4, 4, 4, 4, 4, 4, 4, 4,\n",
       "       4, 4, 4, 4, 4, 4, 4, 4, 4, 4, 4, 4, 4, 4, 4, 4, 4, 4, 4, 4, 4, 4, 4,\n",
       "       4, 2, 4, 4, 4, 4, 4, 4, 4, 4, 4, 4, 4, 4, 4, 4, 4, 4, 4, 4, 4, 4, 4,\n",
       "       4, 4, 4, 4, 2, 4, 4, 4, 4, 4, 2, 4, 4, 4, 4, 4, 4, 4, 4, 4, 4, 4, 4,\n",
       "       4, 4, 4, 4, 4, 4, 4, 4, 4, 4, 4, 4, 4, 4, 4, 4, 4, 4, 4, 4, 4, 4, 4,\n",
       "       4, 4, 4, 4, 4, 4, 4, 4, 4, 4, 4, 4, 4, 4, 5, 5, 5, 1, 5, 5, 5, 5, 1,\n",
       "       5, 5, 5, 5, 5, 5, 5, 5, 5, 5, 5, 1, 5, 4, 5, 5, 5, 1, 5, 5, 5, 5, 1,\n",
       "       5, 5, 5, 5, 5, 5, 5, 1, 5, 5, 1, 5, 5, 5, 1, 5, 5, 5, 5, 5, 5, 5, 5,\n",
       "       1, 5, 5, 5, 5, 5, 5, 1, 1, 1, 5, 5, 1, 5, 5, 5, 1, 5, 1, 5, 5, 5, 1,\n",
       "       5, 1, 5, 5, 5, 1, 5, 5, 1, 2, 5, 5, 1, 1, 5, 1, 5, 5, 5, 5, 1, 5, 5,\n",
       "       5, 5, 5, 1, 1, 5, 5, 5, 5, 4, 5, 5, 1, 1, 5, 5, 1, 1, 5, 5, 5, 5, 5,\n",
       "       5, 1, 1, 5, 5, 5, 5, 1, 5, 5, 1, 4, 5, 5, 5, 5, 1, 5, 5, 5, 5, 5, 5,\n",
       "       5, 5, 5])"
      ]
     },
     "execution_count": 73,
     "metadata": {},
     "output_type": "execute_result"
    }
   ],
   "source": [
    "a"
   ]
  },
  {
   "cell_type": "code",
   "execution_count": null,
   "metadata": {
    "collapsed": true
   },
   "outputs": [],
   "source": []
  }
 ],
 "metadata": {
  "kernelspec": {
   "display_name": "Python 2",
   "language": "python",
   "name": "python2"
  },
  "language_info": {
   "codemirror_mode": {
    "name": "ipython",
    "version": 2
   },
   "file_extension": ".py",
   "mimetype": "text/x-python",
   "name": "python",
   "nbconvert_exporter": "python",
   "pygments_lexer": "ipython2",
   "version": "2.7.9"
  }
 },
 "nbformat": 4,
 "nbformat_minor": 0
}
