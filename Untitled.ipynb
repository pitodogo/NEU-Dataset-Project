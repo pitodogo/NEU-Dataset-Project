{
 "cells": [
  {
   "cell_type": "code",
   "execution_count": 173,
   "metadata": {
    "collapsed": false
   },
   "outputs": [],
   "source": [
    "from os import listdir\n",
    "import cv2\n",
    "import numpy as np\n",
    "from sklearn.svm import SVC\n",
    "from sklearn.neighbors import KNeighborsClassifier\n",
    "\n",
    "groups = [\"Cr\",\"In\",\"Pa\",\"PS\",\"RS\",\"Sc\"]\n",
    "data = [[] for i in range(len(groups))]\n",
    "\n",
    "for f in listdir(\"data\"):\n",
    "    image = np.reshape(cv2.equalizeHist(cv2.imread(\"data/\"+f,0)),[40000])\n",
    "    data[groups.index(f[0:2])].append(image)"
   ]
  },
  {
   "cell_type": "code",
   "execution_count": 169,
   "metadata": {
    "collapsed": false
   },
   "outputs": [],
   "source": [
    "def random_split(data):\n",
    "    train = np.asarray([])\n",
    "    test = np.asarray([])\n",
    "    labels = []\n",
    "    for i in range(len(groups)):\n",
    "        labels = labels + [i]*150\n",
    "        current_set = data[i]\n",
    "        np.random.shuffle(current_set)\n",
    "        if(len(train)==0):\n",
    "            train = current_set[:150]\n",
    "            test = current_set[150:]\n",
    "        else:\n",
    "            train = np.vstack([train,current_set[:150]])\n",
    "            test = np.vstack([test,current_set[150:]])\n",
    "    return train,test,labels"
   ]
  },
  {
   "cell_type": "code",
   "execution_count": 174,
   "metadata": {
    "collapsed": false
   },
   "outputs": [],
   "source": [
    "for itr in range(1):\n",
    "    train,test,label = random_split(data)\n",
    "    #svc = SVC(C=0.1)\n",
    "    #svc.fit(train,label)\n",
    "    knn = KNeighborsClassifier(n_neighbors=3)\n",
    "    knn.fit(train,label)"
   ]
  },
  {
   "cell_type": "code",
   "execution_count": 167,
   "metadata": {
    "collapsed": false
   },
   "outputs": [
    {
     "data": {
      "text/plain": [
       "(900, 1, 40000)"
      ]
     },
     "execution_count": 167,
     "metadata": {},
     "output_type": "execute_result"
    }
   ],
   "source": []
  },
  {
   "cell_type": "code",
   "execution_count": 175,
   "metadata": {
    "collapsed": false
   },
   "outputs": [],
   "source": [
    "a = knn.predict(test)"
   ]
  },
  {
   "cell_type": "code",
   "execution_count": 180,
   "metadata": {
    "collapsed": false
   },
   "outputs": [
    {
     "name": "stdout",
     "output_type": "stream",
     "text": [
      "0.352222222222\n"
     ]
    }
   ],
   "source": [
    "counter = 0\n",
    "for k,i in enumerate(label):\n",
    "    if(i!=a[k]):\n",
    "        counter +=1\n",
    "print 1 - counter/float(900)"
   ]
  },
  {
   "cell_type": "code",
   "execution_count": 177,
   "metadata": {
    "collapsed": false
   },
   "outputs": [
    {
     "data": {
      "text/plain": [
       "True"
      ]
     },
     "execution_count": 177,
     "metadata": {},
     "output_type": "execute_result"
    }
   ],
   "source": [
    "3!=1"
   ]
  },
  {
   "cell_type": "code",
   "execution_count": null,
   "metadata": {
    "collapsed": true
   },
   "outputs": [],
   "source": []
  }
 ],
 "metadata": {
  "kernelspec": {
   "display_name": "Python 2",
   "language": "python",
   "name": "python2"
  },
  "language_info": {
   "codemirror_mode": {
    "name": "ipython",
    "version": 2
   },
   "file_extension": ".py",
   "mimetype": "text/x-python",
   "name": "python",
   "nbconvert_exporter": "python",
   "pygments_lexer": "ipython2",
   "version": "2.7.9"
  }
 },
 "nbformat": 4,
 "nbformat_minor": 0
}
